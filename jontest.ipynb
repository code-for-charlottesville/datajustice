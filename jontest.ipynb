{
 "cells": [
  {
   "cell_type": "markdown",
   "id": "33a82426-8189-4a0d-8588-3b4ba0fc7673",
   "metadata": {},
   "source": [
    "This notebook was created by Jon"
   ]
  },
  {
   "cell_type": "code",
   "execution_count": null,
   "id": "d519ed31-156f-4588-a275-cbf2f0326086",
   "metadata": {},
   "outputs": [],
   "source": []
  }
 ],
 "metadata": {
  "kernelspec": {
   "display_name": "Python 3",
   "language": "python",
   "name": "python3"
  },
  "language_info": {
   "codemirror_mode": {
    "name": "ipython",
    "version": 3
   },
   "file_extension": ".py",
   "mimetype": "text/x-python",
   "name": "python",
   "nbconvert_exporter": "python",
   "pygments_lexer": "ipython3",
   "version": "3.7.10"
  }
 },
 "nbformat": 4,
 "nbformat_minor": 5
}
